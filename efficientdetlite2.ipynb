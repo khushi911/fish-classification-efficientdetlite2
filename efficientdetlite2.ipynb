{
  "nbformat": 4,
  "nbformat_minor": 0,
  "metadata": {
    "colab": {
      "provenance": [],
      "authorship_tag": "ABX9TyMSS8cc1mcK6aTLgX4ervXn",
      "include_colab_link": true
    },
    "kernelspec": {
      "name": "python3",
      "display_name": "Python 3"
    },
    "language_info": {
      "name": "python"
    },
    "accelerator": "GPU",
    "gpuClass": "standard"
  },
  "cells": [
    {
      "cell_type": "markdown",
      "metadata": {
        "id": "view-in-github",
        "colab_type": "text"
      },
      "source": [
        "<a href=\"https://colab.research.google.com/github/khushi911/fish-classification-efficientdetlite2/blob/main/efficientdetlite2.ipynb\" target=\"_parent\"><img src=\"https://colab.research.google.com/assets/colab-badge.svg\" alt=\"Open In Colab\"/></a>"
      ]
    },
    {
      "cell_type": "code",
      "execution_count": null,
      "metadata": {
        "colab": {
          "base_uri": "https://localhost:8080/"
        },
        "id": "Vtz8iD5p_U-B",
        "outputId": "28de4b90-8f84-4bb1-f62f-116f726655fe"
      },
      "outputs": [
        {
          "output_type": "stream",
          "name": "stdout",
          "text": [
            "Reading package lists... Done\n",
            "Building dependency tree       \n",
            "Reading state information... Done\n",
            "The following package was automatically installed and is no longer required:\n",
            "  libnvidia-common-510\n",
            "Use 'sudo apt autoremove' to remove it.\n",
            "The following NEW packages will be installed:\n",
            "  libportaudio2\n",
            "0 upgraded, 1 newly installed, 0 to remove and 21 not upgraded.\n",
            "Need to get 65.4 kB of archives.\n",
            "After this operation, 223 kB of additional disk space will be used.\n",
            "Get:1 http://archive.ubuntu.com/ubuntu focal/universe amd64 libportaudio2 amd64 19.6.0-1build1 [65.4 kB]\n",
            "Fetched 65.4 kB in 0s (909 kB/s)\n",
            "debconf: unable to initialize frontend: Dialog\n",
            "debconf: (No usable dialog-like program is installed, so the dialog based frontend cannot be used. at /usr/share/perl5/Debconf/FrontEnd/Dialog.pm line 76, <> line 1.)\n",
            "debconf: falling back to frontend: Readline\n",
            "debconf: unable to initialize frontend: Readline\n",
            "debconf: (This frontend requires a controlling tty.)\n",
            "debconf: falling back to frontend: Teletype\n",
            "dpkg-preconfigure: unable to re-open stdin: \n",
            "Selecting previously unselected package libportaudio2:amd64.\n",
            "(Reading database ... 128126 files and directories currently installed.)\n",
            "Preparing to unpack .../libportaudio2_19.6.0-1build1_amd64.deb ...\n",
            "Unpacking libportaudio2:amd64 (19.6.0-1build1) ...\n",
            "Setting up libportaudio2:amd64 (19.6.0-1build1) ...\n",
            "Processing triggers for libc-bin (2.31-0ubuntu9.9) ...\n",
            "\u001b[2K     \u001b[90m━━━━━━━━━━━━━━━━━━━━━━━━━━━━━━━━━━━━━━\u001b[0m \u001b[32m577.3/577.3 KB\u001b[0m \u001b[31m20.3 MB/s\u001b[0m eta \u001b[36m0:00:00\u001b[0m\n",
            "\u001b[2K     \u001b[90m━━━━━━━━━━━━━━━━━━━━━━━━━━━━━━━━━━━━━━━━\u001b[0m \u001b[32m3.4/3.4 MB\u001b[0m \u001b[31m93.0 MB/s\u001b[0m eta \u001b[36m0:00:00\u001b[0m\n",
            "\u001b[2K     \u001b[90m━━━━━━━━━━━━━━━━━━━━━━━━━━━━━━━━━━━━━━━━\u001b[0m \u001b[32m60.8/60.8 MB\u001b[0m \u001b[31m13.5 MB/s\u001b[0m eta \u001b[36m0:00:00\u001b[0m\n",
            "\u001b[2K     \u001b[90m━━━━━━━━━━━━━━━━━━━━━━━━━━━━━━━━━━━━━━\u001b[0m \u001b[32m128.6/128.6 KB\u001b[0m \u001b[31m17.2 MB/s\u001b[0m eta \u001b[36m0:00:00\u001b[0m\n",
            "\u001b[2K     \u001b[90m━━━━━━━━━━━━━━━━━━━━━━━━━━━━━━━━━━━━━━\u001b[0m \u001b[32m840.9/840.9 KB\u001b[0m \u001b[31m42.3 MB/s\u001b[0m eta \u001b[36m0:00:00\u001b[0m\n",
            "\u001b[2K     \u001b[90m━━━━━━━━━━━━━━━━━━━━━━━━━━━━━━━━━━━━━━━━\u001b[0m \u001b[32m88.3/88.3 KB\u001b[0m \u001b[31m10.1 MB/s\u001b[0m eta \u001b[36m0:00:00\u001b[0m\n",
            "\u001b[?25h  Preparing metadata (setup.py) ... \u001b[?25l\u001b[?25hdone\n",
            "\u001b[2K     \u001b[90m━━━━━━━━━━━━━━━━━━━━━━━━━━━━━━━━━━━━━━━━\u001b[0m \u001b[32m1.3/1.3 MB\u001b[0m \u001b[31m48.2 MB/s\u001b[0m eta \u001b[36m0:00:00\u001b[0m\n",
            "\u001b[2K     \u001b[90m━━━━━━━━━━━━━━━━━━━━━━━━━━━━━━━━━━━━━━━━\u001b[0m \u001b[32m1.1/1.1 MB\u001b[0m \u001b[31m66.6 MB/s\u001b[0m eta \u001b[36m0:00:00\u001b[0m\n",
            "\u001b[2K     \u001b[90m━━━━━━━━━━━━━━━━━━━━━━━━━━━━━━━━━━━━━━\u001b[0m \u001b[32m238.9/238.9 KB\u001b[0m \u001b[31m28.7 MB/s\u001b[0m eta \u001b[36m0:00:00\u001b[0m\n",
            "\u001b[2K     \u001b[90m━━━━━━━━━━━━━━━━━━━━━━━━━━━━━━━━━━━━━━━━\u001b[0m \u001b[32m77.5/77.5 KB\u001b[0m \u001b[31m10.1 MB/s\u001b[0m eta \u001b[36m0:00:00\u001b[0m\n",
            "\u001b[2K     \u001b[90m━━━━━━━━━━━━━━━━━━━━━━━━━━━━━━━━━━━━━━━━\u001b[0m \u001b[32m10.9/10.9 MB\u001b[0m \u001b[31m97.0 MB/s\u001b[0m eta \u001b[36m0:00:00\u001b[0m\n",
            "\u001b[2K     \u001b[90m━━━━━━━━━━━━━━━━━━━━━━━━━━━━━━━━━━━━━━━━\u001b[0m \u001b[32m25.3/25.3 MB\u001b[0m \u001b[31m58.8 MB/s\u001b[0m eta \u001b[36m0:00:00\u001b[0m\n",
            "\u001b[2K     \u001b[90m━━━━━━━━━━━━━━━━━━━━━━━━━━━━━━━━━━━━━━\u001b[0m \u001b[32m222.4/222.4 KB\u001b[0m \u001b[31m25.7 MB/s\u001b[0m eta \u001b[36m0:00:00\u001b[0m\n",
            "\u001b[2K     \u001b[90m━━━━━━━━━━━━━━━━━━━━━━━━━━━━━━━━━━━━━━\u001b[0m \u001b[32m352.1/352.1 KB\u001b[0m \u001b[31m30.0 MB/s\u001b[0m eta \u001b[36m0:00:00\u001b[0m\n",
            "\u001b[?25h  Building wheel for fire (setup.py) ... \u001b[?25l\u001b[?25hdone\n",
            "\u001b[31mERROR: pip's legacy dependency resolver does not consider dependency conflicts when selecting packages. This behaviour is the source of the following dependency conflicts.\n",
            "tensorflowjs 3.18.0 requires packaging~=20.9, but you'll have packaging 23.0 which is incompatible.\n",
            "scann 1.2.6 requires tensorflow~=2.8.0, but you'll have tensorflow 2.11.0 which is incompatible.\u001b[0m\u001b[31m\n",
            "\u001b[2K     \u001b[90m━━━━━━━━━━━━━━━━━━━━━━━━━━━━━━━━━━━━━━━━\u001b[0m \u001b[32m21.8/21.8 MB\u001b[0m \u001b[31m64.9 MB/s\u001b[0m eta \u001b[36m0:00:00\u001b[0m\n",
            "\u001b[?25hFound existing installation: tensorflow 2.11.0\n",
            "Uninstalling tensorflow-2.11.0:\n",
            "  Successfully uninstalled tensorflow-2.11.0\n",
            "\u001b[2K     \u001b[90m━━━━━━━━━━━━━━━━━━━━━━━━━━━━━━━━━━━━━━━\u001b[0m \u001b[32m497.6/497.6 MB\u001b[0m \u001b[31m3.5 MB/s\u001b[0m eta \u001b[36m0:00:00\u001b[0m\n",
            "\u001b[2K     \u001b[90m━━━━━━━━━━━━━━━━━━━━━━━━━━━━━━━━━━━━━━━━\u001b[0m \u001b[32m5.8/5.8 MB\u001b[0m \u001b[31m79.2 MB/s\u001b[0m eta \u001b[36m0:00:00\u001b[0m\n",
            "\u001b[2K     \u001b[90m━━━━━━━━━━━━━━━━━━━━━━━━━━━━━━━━━━━━━━━━\u001b[0m \u001b[32m1.4/1.4 MB\u001b[0m \u001b[31m38.2 MB/s\u001b[0m eta \u001b[36m0:00:00\u001b[0m\n",
            "\u001b[2K     \u001b[90m━━━━━━━━━━━━━━━━━━━━━━━━━━━━━━━━━━━━━━\u001b[0m \u001b[32m462.5/462.5 KB\u001b[0m \u001b[31m39.8 MB/s\u001b[0m eta \u001b[36m0:00:00\u001b[0m\n",
            "\u001b[2K     \u001b[90m━━━━━━━━━━━━━━━━━━━━━━━━━━━━━━━━━━━━━━━━\u001b[0m \u001b[32m42.6/42.6 KB\u001b[0m \u001b[31m5.1 MB/s\u001b[0m eta \u001b[36m0:00:00\u001b[0m\n",
            "\u001b[?25h\u001b[31mERROR: pip's dependency resolver does not currently take into account all the packages that are installed. This behaviour is the source of the following dependency conflicts.\n",
            "tensorflowjs 3.18.0 requires packaging~=20.9, but you have packaging 23.0 which is incompatible.\u001b[0m\u001b[31m\n",
            "\u001b[0m"
          ]
        }
      ],
      "source": [
        "!sudo apt -y install libportaudio2\n",
        "!pip install -q --use-deprecated=legacy-resolver tflite-model-maker\n",
        "!pip install -q pycocotools\n",
        "!pip install -q opencv-python-headless==4.1.2.30\n",
        "!pip uninstall -y tensorflow && pip install -q tensorflow==2.8.0"
      ]
    },
    {
      "cell_type": "code",
      "source": [
        "import numpy as np\n",
        "import os\n",
        "\n",
        "from tflite_model_maker.config import ExportFormat\n",
        "from tflite_model_maker import model_spec\n",
        "from tflite_model_maker import object_detector\n",
        "\n",
        "import tensorflow as tf\n",
        "assert tf.__version__.startswith('2')\n",
        "\n",
        "tf.get_logger().setLevel('ERROR')\n",
        "from absl import logging\n",
        "logging.set_verbosity(logging.ERROR)"
      ],
      "metadata": {
        "colab": {
          "base_uri": "https://localhost:8080/"
        },
        "id": "PNibb3cm_XuF",
        "outputId": "d4b9c4dc-d22d-4714-da7b-9bc2c692a21d"
      },
      "execution_count": null,
      "outputs": [
        {
          "output_type": "stream",
          "name": "stderr",
          "text": [
            "/usr/local/lib/python3.8/dist-packages/tensorflow_addons/utils/ensure_tf_install.py:53: UserWarning: Tensorflow Addons supports using Python ops for all Tensorflow versions above or equal to 2.9.0 and strictly below 2.12.0 (nightly versions are not supported). \n",
            " The versions of TensorFlow you are currently using is 2.8.0 and is not supported. \n",
            "Some things might work, some things might not.\n",
            "If you were to encounter a bug, do not file an issue.\n",
            "If you want to make sure you're using a tested and supported configuration, either change the TensorFlow version or the TensorFlow Addons's version. \n",
            "You can find the compatibility matrix in TensorFlow Addon's readme:\n",
            "https://github.com/tensorflow/addons\n",
            "  warnings.warn(\n"
          ]
        }
      ]
    },
    {
      "cell_type": "code",
      "source": [
        "# Install Kaggle API\n",
        "!pip install -q kaggle\n",
        "!pip install -q kaggle-cli"
      ],
      "metadata": {
        "colab": {
          "base_uri": "https://localhost:8080/"
        },
        "id": "VhGGfOUm_aba",
        "outputId": "7794c8b3-5699-4100-87e5-1faecbc6de7d"
      },
      "execution_count": null,
      "outputs": [
        {
          "output_type": "stream",
          "name": "stdout",
          "text": [
            "  Preparing metadata (setup.py) ... \u001b[?25l\u001b[?25hdone\n",
            "\u001b[2K     \u001b[90m━━━━━━━━━━━━━━━━━━━━━━━━━━━━━━━━━━━━━━━━\u001b[0m \u001b[32m74.4/74.4 KB\u001b[0m \u001b[31m5.6 MB/s\u001b[0m eta \u001b[36m0:00:00\u001b[0m\n",
            "\u001b[2K     \u001b[90m━━━━━━━━━━━━━━━━━━━━━━━━━━━━━━━━━━━━━━━━\u001b[0m \u001b[32m4.2/4.2 MB\u001b[0m \u001b[31m62.0 MB/s\u001b[0m eta \u001b[36m0:00:00\u001b[0m\n",
            "\u001b[?25h  Preparing metadata (setup.py) ... \u001b[?25l\u001b[?25hdone\n",
            "  Preparing metadata (setup.py) ... \u001b[?25l\u001b[?25hdone\n",
            "\u001b[2K     \u001b[90m━━━━━━━━━━━━━━━━━━━━━━━━━━━━━━━━━━━━━\u001b[0m \u001b[32m112.7/112.7 KB\u001b[0m \u001b[31m393.8 kB/s\u001b[0m eta \u001b[36m0:00:00\u001b[0m\n",
            "\u001b[2K     \u001b[90m━━━━━━━━━━━━━━━━━━━━━━━━━━━━━━━━━━━━━━\u001b[0m \u001b[32m147.2/147.2 KB\u001b[0m \u001b[31m13.7 MB/s\u001b[0m eta \u001b[36m0:00:00\u001b[0m\n",
            "\u001b[2K     \u001b[90m━━━━━━━━━━━━━━━━━━━━━━━━━━━━━━━━━━━━━━━━\u001b[0m \u001b[32m49.6/49.6 KB\u001b[0m \u001b[31m6.3 MB/s\u001b[0m eta \u001b[36m0:00:00\u001b[0m\n",
            "\u001b[?25h  Preparing metadata (setup.py) ... \u001b[?25l\u001b[?25hdone\n",
            "  Building wheel for kaggle-cli (setup.py) ... \u001b[?25l\u001b[?25hdone\n",
            "  \u001b[1;31merror\u001b[0m: \u001b[1msubprocess-exited-with-error\u001b[0m\n",
            "  \n",
            "  \u001b[31m×\u001b[0m \u001b[32mpython setup.py bdist_wheel\u001b[0m did not run successfully.\n",
            "  \u001b[31m│\u001b[0m exit code: \u001b[1;36m1\u001b[0m\n",
            "  \u001b[31m╰─>\u001b[0m See above for output.\n",
            "  \n",
            "  \u001b[1;35mnote\u001b[0m: This error originates from a subprocess, and is likely not a problem with pip.\n",
            "  Building wheel for lxml (setup.py) ... \u001b[?25lerror\n",
            "\u001b[31m  ERROR: Failed building wheel for lxml\u001b[0m\u001b[31m\n",
            "\u001b[0m\u001b[?25h  Building wheel for PrettyTable (setup.py) ... \u001b[?25l\u001b[?25hdone\n",
            "  Building wheel for pyperclip (setup.py) ... \u001b[?25l\u001b[?25hdone\n",
            "  \u001b[1;31merror\u001b[0m: \u001b[1msubprocess-exited-with-error\u001b[0m\n",
            "  \n",
            "  \u001b[31m×\u001b[0m \u001b[32mRunning setup.py install for lxml\u001b[0m did not run successfully.\n",
            "  \u001b[31m│\u001b[0m exit code: \u001b[1;36m1\u001b[0m\n",
            "  \u001b[31m╰─>\u001b[0m See above for output.\n",
            "  \n",
            "  \u001b[1;35mnote\u001b[0m: This error originates from a subprocess, and is likely not a problem with pip.\n",
            "  Running setup.py install for lxml ... \u001b[?25l\u001b[?25herror\n",
            "\u001b[33m  WARNING: No metadata found in /usr/local/lib/python3.8/dist-packages\u001b[0m\u001b[33m\n",
            "\u001b[0m\u001b[1;31merror\u001b[0m: \u001b[1mlegacy-install-failure\u001b[0m\n",
            "\n",
            "\u001b[31m×\u001b[0m Encountered error while trying to install package.\n",
            "\u001b[31m╰─>\u001b[0m lxml\n",
            "\n",
            "\u001b[1;35mnote\u001b[0m: This is an issue with the package mentioned above, not pip.\n",
            "\u001b[1;36mhint\u001b[0m: See above for output from the failure.\n"
          ]
        }
      ]
    },
    {
      "cell_type": "code",
      "source": [
        "!kaggle datasets download -d khushisarangamath/fishes --unzip"
      ],
      "metadata": {
        "colab": {
          "base_uri": "https://localhost:8080/"
        },
        "id": "emn_rYRD_aW9",
        "outputId": "3193776c-502f-4b86-9172-bba77f62da71"
      },
      "execution_count": null,
      "outputs": [
        {
          "output_type": "stream",
          "name": "stdout",
          "text": [
            "Downloading fishes.zip to /content\n",
            "100% 136M/136M [00:03<00:00, 43.3MB/s]\n",
            "100% 136M/136M [00:03<00:00, 36.6MB/s]\n"
          ]
        }
      ]
    },
    {
      "cell_type": "code",
      "source": [
        "from google.colab import files\n",
        "\n",
        "files.upload()"
      ],
      "metadata": {
        "colab": {
          "base_uri": "https://localhost:8080/",
          "height": 90
        },
        "id": "ce39o-Wj_aUY",
        "outputId": "ebf3bbd1-a6b3-4359-d952-2e89e46ff0c6"
      },
      "execution_count": null,
      "outputs": [
        {
          "output_type": "display_data",
          "data": {
            "text/plain": [
              "<IPython.core.display.HTML object>"
            ],
            "text/html": [
              "\n",
              "     <input type=\"file\" id=\"files-cabd58c6-8dc3-411d-9f7d-abcf6fc3af08\" name=\"files[]\" multiple disabled\n",
              "        style=\"border:none\" />\n",
              "     <output id=\"result-cabd58c6-8dc3-411d-9f7d-abcf6fc3af08\">\n",
              "      Upload widget is only available when the cell has been executed in the\n",
              "      current browser session. Please rerun this cell to enable.\n",
              "      </output>\n",
              "      <script>// Copyright 2017 Google LLC\n",
              "//\n",
              "// Licensed under the Apache License, Version 2.0 (the \"License\");\n",
              "// you may not use this file except in compliance with the License.\n",
              "// You may obtain a copy of the License at\n",
              "//\n",
              "//      http://www.apache.org/licenses/LICENSE-2.0\n",
              "//\n",
              "// Unless required by applicable law or agreed to in writing, software\n",
              "// distributed under the License is distributed on an \"AS IS\" BASIS,\n",
              "// WITHOUT WARRANTIES OR CONDITIONS OF ANY KIND, either express or implied.\n",
              "// See the License for the specific language governing permissions and\n",
              "// limitations under the License.\n",
              "\n",
              "/**\n",
              " * @fileoverview Helpers for google.colab Python module.\n",
              " */\n",
              "(function(scope) {\n",
              "function span(text, styleAttributes = {}) {\n",
              "  const element = document.createElement('span');\n",
              "  element.textContent = text;\n",
              "  for (const key of Object.keys(styleAttributes)) {\n",
              "    element.style[key] = styleAttributes[key];\n",
              "  }\n",
              "  return element;\n",
              "}\n",
              "\n",
              "// Max number of bytes which will be uploaded at a time.\n",
              "const MAX_PAYLOAD_SIZE = 100 * 1024;\n",
              "\n",
              "function _uploadFiles(inputId, outputId) {\n",
              "  const steps = uploadFilesStep(inputId, outputId);\n",
              "  const outputElement = document.getElementById(outputId);\n",
              "  // Cache steps on the outputElement to make it available for the next call\n",
              "  // to uploadFilesContinue from Python.\n",
              "  outputElement.steps = steps;\n",
              "\n",
              "  return _uploadFilesContinue(outputId);\n",
              "}\n",
              "\n",
              "// This is roughly an async generator (not supported in the browser yet),\n",
              "// where there are multiple asynchronous steps and the Python side is going\n",
              "// to poll for completion of each step.\n",
              "// This uses a Promise to block the python side on completion of each step,\n",
              "// then passes the result of the previous step as the input to the next step.\n",
              "function _uploadFilesContinue(outputId) {\n",
              "  const outputElement = document.getElementById(outputId);\n",
              "  const steps = outputElement.steps;\n",
              "\n",
              "  const next = steps.next(outputElement.lastPromiseValue);\n",
              "  return Promise.resolve(next.value.promise).then((value) => {\n",
              "    // Cache the last promise value to make it available to the next\n",
              "    // step of the generator.\n",
              "    outputElement.lastPromiseValue = value;\n",
              "    return next.value.response;\n",
              "  });\n",
              "}\n",
              "\n",
              "/**\n",
              " * Generator function which is called between each async step of the upload\n",
              " * process.\n",
              " * @param {string} inputId Element ID of the input file picker element.\n",
              " * @param {string} outputId Element ID of the output display.\n",
              " * @return {!Iterable<!Object>} Iterable of next steps.\n",
              " */\n",
              "function* uploadFilesStep(inputId, outputId) {\n",
              "  const inputElement = document.getElementById(inputId);\n",
              "  inputElement.disabled = false;\n",
              "\n",
              "  const outputElement = document.getElementById(outputId);\n",
              "  outputElement.innerHTML = '';\n",
              "\n",
              "  const pickedPromise = new Promise((resolve) => {\n",
              "    inputElement.addEventListener('change', (e) => {\n",
              "      resolve(e.target.files);\n",
              "    });\n",
              "  });\n",
              "\n",
              "  const cancel = document.createElement('button');\n",
              "  inputElement.parentElement.appendChild(cancel);\n",
              "  cancel.textContent = 'Cancel upload';\n",
              "  const cancelPromise = new Promise((resolve) => {\n",
              "    cancel.onclick = () => {\n",
              "      resolve(null);\n",
              "    };\n",
              "  });\n",
              "\n",
              "  // Wait for the user to pick the files.\n",
              "  const files = yield {\n",
              "    promise: Promise.race([pickedPromise, cancelPromise]),\n",
              "    response: {\n",
              "      action: 'starting',\n",
              "    }\n",
              "  };\n",
              "\n",
              "  cancel.remove();\n",
              "\n",
              "  // Disable the input element since further picks are not allowed.\n",
              "  inputElement.disabled = true;\n",
              "\n",
              "  if (!files) {\n",
              "    return {\n",
              "      response: {\n",
              "        action: 'complete',\n",
              "      }\n",
              "    };\n",
              "  }\n",
              "\n",
              "  for (const file of files) {\n",
              "    const li = document.createElement('li');\n",
              "    li.append(span(file.name, {fontWeight: 'bold'}));\n",
              "    li.append(span(\n",
              "        `(${file.type || 'n/a'}) - ${file.size} bytes, ` +\n",
              "        `last modified: ${\n",
              "            file.lastModifiedDate ? file.lastModifiedDate.toLocaleDateString() :\n",
              "                                    'n/a'} - `));\n",
              "    const percent = span('0% done');\n",
              "    li.appendChild(percent);\n",
              "\n",
              "    outputElement.appendChild(li);\n",
              "\n",
              "    const fileDataPromise = new Promise((resolve) => {\n",
              "      const reader = new FileReader();\n",
              "      reader.onload = (e) => {\n",
              "        resolve(e.target.result);\n",
              "      };\n",
              "      reader.readAsArrayBuffer(file);\n",
              "    });\n",
              "    // Wait for the data to be ready.\n",
              "    let fileData = yield {\n",
              "      promise: fileDataPromise,\n",
              "      response: {\n",
              "        action: 'continue',\n",
              "      }\n",
              "    };\n",
              "\n",
              "    // Use a chunked sending to avoid message size limits. See b/62115660.\n",
              "    let position = 0;\n",
              "    do {\n",
              "      const length = Math.min(fileData.byteLength - position, MAX_PAYLOAD_SIZE);\n",
              "      const chunk = new Uint8Array(fileData, position, length);\n",
              "      position += length;\n",
              "\n",
              "      const base64 = btoa(String.fromCharCode.apply(null, chunk));\n",
              "      yield {\n",
              "        response: {\n",
              "          action: 'append',\n",
              "          file: file.name,\n",
              "          data: base64,\n",
              "        },\n",
              "      };\n",
              "\n",
              "      let percentDone = fileData.byteLength === 0 ?\n",
              "          100 :\n",
              "          Math.round((position / fileData.byteLength) * 100);\n",
              "      percent.textContent = `${percentDone}% done`;\n",
              "\n",
              "    } while (position < fileData.byteLength);\n",
              "  }\n",
              "\n",
              "  // All done.\n",
              "  yield {\n",
              "    response: {\n",
              "      action: 'complete',\n",
              "    }\n",
              "  };\n",
              "}\n",
              "\n",
              "scope.google = scope.google || {};\n",
              "scope.google.colab = scope.google.colab || {};\n",
              "scope.google.colab._files = {\n",
              "  _uploadFiles,\n",
              "  _uploadFilesContinue,\n",
              "};\n",
              "})(self);\n",
              "</script> "
            ]
          },
          "metadata": {}
        },
        {
          "output_type": "stream",
          "name": "stdout",
          "text": [
            "Saving kaggle.json to kaggle.json\n"
          ]
        },
        {
          "output_type": "execute_result",
          "data": {
            "text/plain": [
              "{'kaggle.json': b'{\"username\":\"khushisarangamath\",\"key\":\"86f9ae71c5d59afa977219a98ae3d24b\"}'}"
            ]
          },
          "metadata": {},
          "execution_count": 6
        }
      ]
    },
    {
      "cell_type": "code",
      "source": [
        "# only for google colab\n",
        "import os\n",
        "os.environ['KAGGLE_USERNAME'] = \"khushisarangamath\" \n",
        "os.environ['KAGGLE_KEY'] = \"86f9ae71c5d59afa977219a98ae3d24b\""
      ],
      "metadata": {
        "id": "TlxDT9pA_aOA"
      },
      "execution_count": null,
      "outputs": []
    },
    {
      "cell_type": "code",
      "source": [
        "!mkdir ~/.kaggle\n",
        "\n",
        "!cp kaggle.json ~/.kaggle/"
      ],
      "metadata": {
        "colab": {
          "base_uri": "https://localhost:8080/"
        },
        "id": "Z0IJ7ZfTA2H8",
        "outputId": "2490ebc8-bcd4-460c-81e9-decf72e46a65"
      },
      "execution_count": null,
      "outputs": [
        {
          "output_type": "stream",
          "name": "stdout",
          "text": [
            "mkdir: cannot create directory ‘/root/.kaggle’: File exists\n"
          ]
        }
      ]
    },
    {
      "cell_type": "code",
      "source": [
        "! chmod 600 ~/.kaggle/kaggle.json"
      ],
      "metadata": {
        "id": "oMraHDh2A9I1"
      },
      "execution_count": null,
      "outputs": []
    },
    {
      "cell_type": "code",
      "source": [
        "! kaggle datasets list"
      ],
      "metadata": {
        "colab": {
          "base_uri": "https://localhost:8080/"
        },
        "id": "O8POgVTTBXl_",
        "outputId": "47bc8203-1d51-4299-ceed-a2574d355f5c"
      },
      "execution_count": null,
      "outputs": [
        {
          "output_type": "stream",
          "name": "stdout",
          "text": [
            "ref                                                             title                                               size  lastUpdated          downloadCount  voteCount  usabilityRating  \n",
            "--------------------------------------------------------------  -------------------------------------------------  -----  -------------------  -------------  ---------  ---------------  \n",
            "themrityunjaypathak/covid-cases-and-deaths-worldwide            Covid Cases and Deaths WorldWide                     8KB  2023-02-01 12:22:51           3255         85  1.0              \n",
            "ahsan81/hotel-reservations-classification-dataset               Hotel Reservations Dataset                         480KB  2023-01-04 12:50:31          12286        389  1.0              \n",
            "datascientistanna/customers-dataset                             Shop Customer Data                                  23KB  2023-02-07 18:42:21           2380         69  1.0              \n",
            "themrityunjaypathak/most-subscribed-1000-youtube-channels       Most Subscribed 1000 Youtube Channels               28KB  2023-01-21 14:42:05           4250        116  1.0              \n",
            "anas123siddiqui/laptops                                         Laptops                                             44KB  2023-02-05 18:11:41           1540         45  1.0              \n",
            "googleai/musiccaps                                              MusicCaps                                          793KB  2023-01-25 09:25:48           2837        241  0.9411765        \n",
            "michelhatab/hotel-reviews-bookingcom                            Hotel Reviews Booking.com                           83KB  2023-02-07 13:38:17            937         29  1.0              \n",
            "karkavelrajaj/amazon-sales-dataset                              Amazon Sales Dataset                                 2MB  2023-01-17 06:21:15           5004        103  1.0              \n",
            "kfoster150/avg-cost-of-undergrad-college-by-state               Avg Cost of Undergrad College by State              21KB  2023-01-17 23:44:45           1171         32  1.0              \n",
            "senapatirajesh/netflix-tv-shows-and-movies                      Latest Netflix TV shows and movies                   1MB  2023-01-14 17:03:12           4557        122  0.9411765        \n",
            "marshuu/best-artists-dataset-grammys-billboard-rs               Greatest artists dataset Grammys | Billboard | RS    8KB  2023-01-25 20:03:22            944         36  1.0              \n",
            "kreeshrajani/used-car-price-dataset                             Used car price dataset                              34KB  2023-01-25 18:19:17            972         26  1.0              \n",
            "thedevastator/higher-education-predictors-of-student-retention  Predict students' dropout and academic success      87KB  2023-01-03 09:18:54           4652        110  1.0              \n",
            "salimwid/global-billionaire-wealth-and-sources-2002-2023        Global Billionaire Wealth & Sources [2002-2023]      3MB  2023-02-04 08:32:48            667         26  1.0              \n",
            "thedevastator/medical-student-mental-health                     Medical Student Mental Health                       19KB  2023-01-25 01:00:14           1752         49  1.0              \n",
            "thedevastator/netflix-top-rated-movies-and-tv-shows-2020-2022   Netflix Top Rated Movies and TV Shows                2MB  2023-01-17 03:47:40           1883         44  1.0              \n",
            "abhishek14398/salary-dataset-simple-linear-regression           Salary Dataset - Simple linear regression           457B  2023-01-10 03:55:40           3215         64  1.0              \n",
            "baraazaid/how-long-to-beat-video-games                          Video Games Playtime                                 5MB  2023-02-06 10:39:58            908         37  1.0              \n",
            "nitishsharma01/olympics-124-years-datasettill-2020              Olympics 124 years Dataset(till 2020)                5MB  2023-02-01 09:00:49           1674         36  1.0              \n",
            "thedevastator/predicting-credit-card-customer-attrition-with-m  Predicting Credit Card Customer Segmentation       379KB  2023-01-15 15:27:38           2071         62  1.0              \n"
          ]
        }
      ]
    },
    {
      "cell_type": "code",
      "source": [
        "spec = model_spec.get('efficientdet_lite2')"
      ],
      "metadata": {
        "id": "h6FwbgROBakE"
      },
      "execution_count": null,
      "outputs": []
    },
    {
      "cell_type": "code",
      "source": [
        "pwd"
      ],
      "metadata": {
        "colab": {
          "base_uri": "https://localhost:8080/",
          "height": 35
        },
        "id": "pWuGWWN-C6ds",
        "outputId": "35c606fb-51b1-4a0b-e679-072247d00124"
      },
      "execution_count": null,
      "outputs": [
        {
          "output_type": "execute_result",
          "data": {
            "text/plain": [
              "'/content'"
            ],
            "application/vnd.google.colaboratory.intrinsic+json": {
              "type": "string"
            }
          },
          "metadata": {},
          "execution_count": 12
        }
      ]
    },
    {
      "cell_type": "code",
      "source": [
        "train_data = object_detector.DataLoader.from_pascal_voc('./train', './train', ['blackmolly', 'whitemolly', 'chocolatemolly', 'platy','guppy'])"
      ],
      "metadata": {
        "id": "836B55j5CCUk"
      },
      "execution_count": null,
      "outputs": []
    },
    {
      "cell_type": "code",
      "source": [
        "validation_data = object_detector.DataLoader.from_pascal_voc('./test', './test', ['blackmolly', 'whitemolly', 'chocolatemolly', 'platy','guppy'])"
      ],
      "metadata": {
        "id": "HVi8QWD2DPCu"
      },
      "execution_count": null,
      "outputs": []
    },
    {
      "cell_type": "code",
      "source": [
        "model = object_detector.create(train_data, model_spec=spec, epochs=80, batch_size=8, train_whole_model=True, validation_data=validation_data)"
      ],
      "metadata": {
        "colab": {
          "base_uri": "https://localhost:8080/"
        },
        "id": "2haqQYCUDd84",
        "outputId": "a128d0c9-bac3-4db1-a259-f658cce0c77b"
      },
      "execution_count": null,
      "outputs": [
        {
          "output_type": "stream",
          "name": "stdout",
          "text": [
            "Epoch 1/80\n",
            "66/66 [==============================] - 115s 888ms/step - det_loss: 1.5883 - cls_loss: 1.0438 - box_loss: 0.0109 - reg_l2_loss: 0.0764 - loss: 1.6648 - learning_rate: 0.0090 - gradient_norm: 2.0043 - val_det_loss: 1.4719 - val_cls_loss: 1.0650 - val_box_loss: 0.0081 - val_reg_l2_loss: 0.0765 - val_loss: 1.5484\n",
            "Epoch 2/80\n",
            "66/66 [==============================] - 56s 846ms/step - det_loss: 0.9596 - cls_loss: 0.6105 - box_loss: 0.0070 - reg_l2_loss: 0.0765 - loss: 1.0361 - learning_rate: 0.0100 - gradient_norm: 3.3873 - val_det_loss: 0.7830 - val_cls_loss: 0.5299 - val_box_loss: 0.0051 - val_reg_l2_loss: 0.0766 - val_loss: 0.8596\n",
            "Epoch 3/80\n",
            "66/66 [==============================] - 57s 873ms/step - det_loss: 0.6929 - cls_loss: 0.4201 - box_loss: 0.0055 - reg_l2_loss: 0.0766 - loss: 0.7696 - learning_rate: 0.0100 - gradient_norm: 3.3654 - val_det_loss: 0.6675 - val_cls_loss: 0.3762 - val_box_loss: 0.0058 - val_reg_l2_loss: 0.0767 - val_loss: 0.7442\n",
            "Epoch 4/80\n",
            "66/66 [==============================] - 56s 851ms/step - det_loss: 0.6063 - cls_loss: 0.3599 - box_loss: 0.0049 - reg_l2_loss: 0.0768 - loss: 0.6830 - learning_rate: 0.0100 - gradient_norm: 3.4369 - val_det_loss: 0.6817 - val_cls_loss: 0.3952 - val_box_loss: 0.0057 - val_reg_l2_loss: 0.0768 - val_loss: 0.7585\n",
            "Epoch 5/80\n",
            "66/66 [==============================] - 69s 1s/step - det_loss: 0.5484 - cls_loss: 0.3187 - box_loss: 0.0046 - reg_l2_loss: 0.0769 - loss: 0.6253 - learning_rate: 0.0099 - gradient_norm: 3.0068 - val_det_loss: 0.6162 - val_cls_loss: 0.3613 - val_box_loss: 0.0051 - val_reg_l2_loss: 0.0769 - val_loss: 0.6932\n",
            "Epoch 6/80\n",
            "66/66 [==============================] - 56s 848ms/step - det_loss: 0.5248 - cls_loss: 0.3046 - box_loss: 0.0044 - reg_l2_loss: 0.0770 - loss: 0.6017 - learning_rate: 0.0099 - gradient_norm: 3.0696 - val_det_loss: 0.5597 - val_cls_loss: 0.3349 - val_box_loss: 0.0045 - val_reg_l2_loss: 0.0770 - val_loss: 0.6367\n",
            "Epoch 7/80\n",
            "66/66 [==============================] - 55s 843ms/step - det_loss: 0.4778 - cls_loss: 0.2816 - box_loss: 0.0039 - reg_l2_loss: 0.0770 - loss: 0.5549 - learning_rate: 0.0098 - gradient_norm: 2.8603 - val_det_loss: 0.3858 - val_cls_loss: 0.2390 - val_box_loss: 0.0029 - val_reg_l2_loss: 0.0771 - val_loss: 0.4629\n",
            "Epoch 8/80\n",
            "66/66 [==============================] - 55s 840ms/step - det_loss: 0.4596 - cls_loss: 0.2707 - box_loss: 0.0038 - reg_l2_loss: 0.0771 - loss: 0.5367 - learning_rate: 0.0098 - gradient_norm: 2.8611 - val_det_loss: 0.5066 - val_cls_loss: 0.3046 - val_box_loss: 0.0040 - val_reg_l2_loss: 0.0771 - val_loss: 0.5837\n",
            "Epoch 9/80\n",
            "66/66 [==============================] - 56s 848ms/step - det_loss: 0.4558 - cls_loss: 0.2675 - box_loss: 0.0038 - reg_l2_loss: 0.0772 - loss: 0.5330 - learning_rate: 0.0097 - gradient_norm: 2.7918 - val_det_loss: 0.3859 - val_cls_loss: 0.2558 - val_box_loss: 0.0026 - val_reg_l2_loss: 0.0772 - val_loss: 0.4631\n",
            "Epoch 10/80\n",
            "66/66 [==============================] - 66s 1s/step - det_loss: 0.4519 - cls_loss: 0.2663 - box_loss: 0.0037 - reg_l2_loss: 0.0772 - loss: 0.5292 - learning_rate: 0.0096 - gradient_norm: 2.7138 - val_det_loss: 0.3806 - val_cls_loss: 0.2385 - val_box_loss: 0.0028 - val_reg_l2_loss: 0.0772 - val_loss: 0.4579\n",
            "Epoch 11/80\n",
            "66/66 [==============================] - 55s 839ms/step - det_loss: 0.4388 - cls_loss: 0.2585 - box_loss: 0.0036 - reg_l2_loss: 0.0773 - loss: 0.5160 - learning_rate: 0.0096 - gradient_norm: 2.7071 - val_det_loss: 0.5691 - val_cls_loss: 0.3155 - val_box_loss: 0.0051 - val_reg_l2_loss: 0.0773 - val_loss: 0.6464\n",
            "Epoch 12/80\n",
            "66/66 [==============================] - 56s 852ms/step - det_loss: 0.4234 - cls_loss: 0.2492 - box_loss: 0.0035 - reg_l2_loss: 0.0773 - loss: 0.5007 - learning_rate: 0.0095 - gradient_norm: 2.5914 - val_det_loss: 0.4042 - val_cls_loss: 0.2395 - val_box_loss: 0.0033 - val_reg_l2_loss: 0.0773 - val_loss: 0.4815\n",
            "Epoch 13/80\n",
            "66/66 [==============================] - 55s 839ms/step - det_loss: 0.4150 - cls_loss: 0.2477 - box_loss: 0.0033 - reg_l2_loss: 0.0774 - loss: 0.4923 - learning_rate: 0.0094 - gradient_norm: 2.5756 - val_det_loss: 0.3779 - val_cls_loss: 0.2309 - val_box_loss: 0.0029 - val_reg_l2_loss: 0.0774 - val_loss: 0.4552\n",
            "Epoch 14/80\n",
            "66/66 [==============================] - 55s 840ms/step - det_loss: 0.4205 - cls_loss: 0.2522 - box_loss: 0.0034 - reg_l2_loss: 0.0774 - loss: 0.4979 - learning_rate: 0.0093 - gradient_norm: 2.8032 - val_det_loss: 0.3817 - val_cls_loss: 0.2530 - val_box_loss: 0.0026 - val_reg_l2_loss: 0.0774 - val_loss: 0.4592\n",
            "Epoch 15/80\n",
            "66/66 [==============================] - 62s 943ms/step - det_loss: 0.4084 - cls_loss: 0.2467 - box_loss: 0.0032 - reg_l2_loss: 0.0775 - loss: 0.4858 - learning_rate: 0.0092 - gradient_norm: 2.6672 - val_det_loss: 0.3826 - val_cls_loss: 0.2324 - val_box_loss: 0.0030 - val_reg_l2_loss: 0.0775 - val_loss: 0.4601\n",
            "Epoch 16/80\n",
            "66/66 [==============================] - 56s 848ms/step - det_loss: 0.3990 - cls_loss: 0.2363 - box_loss: 0.0033 - reg_l2_loss: 0.0775 - loss: 0.4765 - learning_rate: 0.0091 - gradient_norm: 2.5448 - val_det_loss: 0.3665 - val_cls_loss: 0.2194 - val_box_loss: 0.0029 - val_reg_l2_loss: 0.0775 - val_loss: 0.4440\n",
            "Epoch 17/80\n",
            "66/66 [==============================] - 54s 828ms/step - det_loss: 0.4060 - cls_loss: 0.2448 - box_loss: 0.0032 - reg_l2_loss: 0.0775 - loss: 0.4835 - learning_rate: 0.0090 - gradient_norm: 2.7072 - val_det_loss: 0.5051 - val_cls_loss: 0.3035 - val_box_loss: 0.0040 - val_reg_l2_loss: 0.0776 - val_loss: 0.5826\n",
            "Epoch 18/80\n",
            "66/66 [==============================] - 54s 829ms/step - det_loss: 0.3834 - cls_loss: 0.2304 - box_loss: 0.0031 - reg_l2_loss: 0.0776 - loss: 0.4610 - learning_rate: 0.0088 - gradient_norm: 2.4414 - val_det_loss: 0.5275 - val_cls_loss: 0.3043 - val_box_loss: 0.0045 - val_reg_l2_loss: 0.0776 - val_loss: 0.6051\n",
            "Epoch 19/80\n",
            "66/66 [==============================] - 56s 851ms/step - det_loss: 0.3726 - cls_loss: 0.2249 - box_loss: 0.0030 - reg_l2_loss: 0.0776 - loss: 0.4502 - learning_rate: 0.0087 - gradient_norm: 2.2952 - val_det_loss: 0.3674 - val_cls_loss: 0.2123 - val_box_loss: 0.0031 - val_reg_l2_loss: 0.0776 - val_loss: 0.4451\n",
            "Epoch 20/80\n",
            "66/66 [==============================] - 61s 924ms/step - det_loss: 0.3790 - cls_loss: 0.2307 - box_loss: 0.0030 - reg_l2_loss: 0.0776 - loss: 0.4566 - learning_rate: 0.0086 - gradient_norm: 2.7702 - val_det_loss: 0.3725 - val_cls_loss: 0.2402 - val_box_loss: 0.0026 - val_reg_l2_loss: 0.0776 - val_loss: 0.4502\n",
            "Epoch 21/80\n",
            "66/66 [==============================] - 54s 829ms/step - det_loss: 0.3746 - cls_loss: 0.2229 - box_loss: 0.0030 - reg_l2_loss: 0.0777 - loss: 0.4523 - learning_rate: 0.0084 - gradient_norm: 2.5108 - val_det_loss: 0.3891 - val_cls_loss: 0.2458 - val_box_loss: 0.0029 - val_reg_l2_loss: 0.0777 - val_loss: 0.4667\n",
            "Epoch 22/80\n",
            "66/66 [==============================] - 54s 829ms/step - det_loss: 0.3539 - cls_loss: 0.2115 - box_loss: 0.0028 - reg_l2_loss: 0.0777 - loss: 0.4315 - learning_rate: 0.0083 - gradient_norm: 2.3702 - val_det_loss: 0.3754 - val_cls_loss: 0.2370 - val_box_loss: 0.0028 - val_reg_l2_loss: 0.0777 - val_loss: 0.4531\n",
            "Epoch 23/80\n",
            "66/66 [==============================] - 57s 864ms/step - det_loss: 0.3568 - cls_loss: 0.2135 - box_loss: 0.0029 - reg_l2_loss: 0.0777 - loss: 0.4345 - learning_rate: 0.0081 - gradient_norm: 2.2829 - val_det_loss: 0.4055 - val_cls_loss: 0.2558 - val_box_loss: 0.0030 - val_reg_l2_loss: 0.0777 - val_loss: 0.4832\n",
            "Epoch 24/80\n",
            "66/66 [==============================] - 56s 852ms/step - det_loss: 0.3595 - cls_loss: 0.2162 - box_loss: 0.0029 - reg_l2_loss: 0.0777 - loss: 0.4373 - learning_rate: 0.0080 - gradient_norm: 2.3843 - val_det_loss: 0.3718 - val_cls_loss: 0.2259 - val_box_loss: 0.0029 - val_reg_l2_loss: 0.0777 - val_loss: 0.4496\n",
            "Epoch 25/80\n",
            "66/66 [==============================] - 60s 913ms/step - det_loss: 0.3697 - cls_loss: 0.2212 - box_loss: 0.0030 - reg_l2_loss: 0.0777 - loss: 0.4474 - learning_rate: 0.0078 - gradient_norm: 2.4876 - val_det_loss: 0.4033 - val_cls_loss: 0.2498 - val_box_loss: 0.0031 - val_reg_l2_loss: 0.0777 - val_loss: 0.4810\n",
            "Epoch 26/80\n",
            "66/66 [==============================] - 55s 836ms/step - det_loss: 0.3565 - cls_loss: 0.2108 - box_loss: 0.0029 - reg_l2_loss: 0.0777 - loss: 0.4342 - learning_rate: 0.0076 - gradient_norm: 2.3938 - val_det_loss: 0.3932 - val_cls_loss: 0.2466 - val_box_loss: 0.0029 - val_reg_l2_loss: 0.0778 - val_loss: 0.4710\n",
            "Epoch 27/80\n",
            "66/66 [==============================] - 55s 831ms/step - det_loss: 0.3632 - cls_loss: 0.2161 - box_loss: 0.0029 - reg_l2_loss: 0.0778 - loss: 0.4409 - learning_rate: 0.0075 - gradient_norm: 2.3745 - val_det_loss: 0.3570 - val_cls_loss: 0.2264 - val_box_loss: 0.0026 - val_reg_l2_loss: 0.0778 - val_loss: 0.4348\n",
            "Epoch 28/80\n",
            "66/66 [==============================] - 56s 845ms/step - det_loss: 0.3407 - cls_loss: 0.2039 - box_loss: 0.0027 - reg_l2_loss: 0.0778 - loss: 0.4184 - learning_rate: 0.0073 - gradient_norm: 2.2572 - val_det_loss: 0.3738 - val_cls_loss: 0.2379 - val_box_loss: 0.0027 - val_reg_l2_loss: 0.0778 - val_loss: 0.4516\n",
            "Epoch 29/80\n",
            "66/66 [==============================] - 55s 836ms/step - det_loss: 0.3439 - cls_loss: 0.2085 - box_loss: 0.0027 - reg_l2_loss: 0.0778 - loss: 0.4217 - learning_rate: 0.0071 - gradient_norm: 2.4238 - val_det_loss: 0.3418 - val_cls_loss: 0.2134 - val_box_loss: 0.0026 - val_reg_l2_loss: 0.0778 - val_loss: 0.4196\n",
            "Epoch 30/80\n",
            "66/66 [==============================] - 60s 919ms/step - det_loss: 0.3466 - cls_loss: 0.2083 - box_loss: 0.0028 - reg_l2_loss: 0.0778 - loss: 0.4244 - learning_rate: 0.0069 - gradient_norm: 2.3534 - val_det_loss: 0.3183 - val_cls_loss: 0.1977 - val_box_loss: 0.0024 - val_reg_l2_loss: 0.0778 - val_loss: 0.3961\n",
            "Epoch 31/80\n",
            "66/66 [==============================] - 54s 827ms/step - det_loss: 0.3199 - cls_loss: 0.1958 - box_loss: 0.0025 - reg_l2_loss: 0.0778 - loss: 0.3977 - learning_rate: 0.0068 - gradient_norm: 2.2578 - val_det_loss: 0.4003 - val_cls_loss: 0.2412 - val_box_loss: 0.0032 - val_reg_l2_loss: 0.0778 - val_loss: 0.4781\n",
            "Epoch 32/80\n",
            "66/66 [==============================] - 54s 820ms/step - det_loss: 0.3279 - cls_loss: 0.2000 - box_loss: 0.0026 - reg_l2_loss: 0.0778 - loss: 0.4057 - learning_rate: 0.0066 - gradient_norm: 2.3832 - val_det_loss: 0.3365 - val_cls_loss: 0.2188 - val_box_loss: 0.0024 - val_reg_l2_loss: 0.0778 - val_loss: 0.4143\n",
            "Epoch 33/80\n",
            "66/66 [==============================] - 55s 843ms/step - det_loss: 0.3253 - cls_loss: 0.2002 - box_loss: 0.0025 - reg_l2_loss: 0.0778 - loss: 0.4031 - learning_rate: 0.0064 - gradient_norm: 2.3077 - val_det_loss: 0.4310 - val_cls_loss: 0.2527 - val_box_loss: 0.0036 - val_reg_l2_loss: 0.0778 - val_loss: 0.5088\n",
            "Epoch 34/80\n",
            "66/66 [==============================] - 56s 852ms/step - det_loss: 0.3290 - cls_loss: 0.2009 - box_loss: 0.0026 - reg_l2_loss: 0.0778 - loss: 0.4068 - learning_rate: 0.0062 - gradient_norm: 2.3449 - val_det_loss: 0.3803 - val_cls_loss: 0.2289 - val_box_loss: 0.0030 - val_reg_l2_loss: 0.0778 - val_loss: 0.4581\n",
            "Epoch 35/80\n",
            "66/66 [==============================] - 60s 911ms/step - det_loss: 0.3108 - cls_loss: 0.1904 - box_loss: 0.0024 - reg_l2_loss: 0.0778 - loss: 0.3886 - learning_rate: 0.0060 - gradient_norm: 2.1623 - val_det_loss: 0.3290 - val_cls_loss: 0.1995 - val_box_loss: 0.0026 - val_reg_l2_loss: 0.0778 - val_loss: 0.4068\n",
            "Epoch 36/80\n",
            "66/66 [==============================] - 55s 833ms/step - det_loss: 0.3244 - cls_loss: 0.1987 - box_loss: 0.0025 - reg_l2_loss: 0.0778 - loss: 0.4022 - learning_rate: 0.0058 - gradient_norm: 2.3565 - val_det_loss: 0.3002 - val_cls_loss: 0.1872 - val_box_loss: 0.0023 - val_reg_l2_loss: 0.0778 - val_loss: 0.3780\n",
            "Epoch 37/80\n",
            "66/66 [==============================] - 56s 849ms/step - det_loss: 0.3190 - cls_loss: 0.1944 - box_loss: 0.0025 - reg_l2_loss: 0.0778 - loss: 0.3968 - learning_rate: 0.0056 - gradient_norm: 2.2884 - val_det_loss: 0.3574 - val_cls_loss: 0.2180 - val_box_loss: 0.0028 - val_reg_l2_loss: 0.0778 - val_loss: 0.4352\n",
            "Epoch 38/80\n",
            "66/66 [==============================] - 56s 848ms/step - det_loss: 0.3364 - cls_loss: 0.2042 - box_loss: 0.0026 - reg_l2_loss: 0.0778 - loss: 0.4142 - learning_rate: 0.0054 - gradient_norm: 2.4583 - val_det_loss: 0.3264 - val_cls_loss: 0.2139 - val_box_loss: 0.0022 - val_reg_l2_loss: 0.0778 - val_loss: 0.4043\n",
            "Epoch 39/80\n",
            "66/66 [==============================] - 54s 830ms/step - det_loss: 0.3120 - cls_loss: 0.1910 - box_loss: 0.0024 - reg_l2_loss: 0.0778 - loss: 0.3898 - learning_rate: 0.0052 - gradient_norm: 2.3213 - val_det_loss: 0.3432 - val_cls_loss: 0.2096 - val_box_loss: 0.0027 - val_reg_l2_loss: 0.0778 - val_loss: 0.4210\n",
            "Epoch 40/80\n",
            "66/66 [==============================] - 59s 903ms/step - det_loss: 0.3146 - cls_loss: 0.1932 - box_loss: 0.0024 - reg_l2_loss: 0.0778 - loss: 0.3924 - learning_rate: 0.0050 - gradient_norm: 2.4080 - val_det_loss: 0.3625 - val_cls_loss: 0.2225 - val_box_loss: 0.0028 - val_reg_l2_loss: 0.0778 - val_loss: 0.4403\n",
            "Epoch 41/80\n",
            "66/66 [==============================] - 55s 837ms/step - det_loss: 0.3207 - cls_loss: 0.1939 - box_loss: 0.0025 - reg_l2_loss: 0.0778 - loss: 0.3985 - learning_rate: 0.0048 - gradient_norm: 2.4876 - val_det_loss: 0.3384 - val_cls_loss: 0.2050 - val_box_loss: 0.0027 - val_reg_l2_loss: 0.0778 - val_loss: 0.4162\n",
            "Epoch 42/80\n",
            "66/66 [==============================] - 55s 837ms/step - det_loss: 0.3033 - cls_loss: 0.1865 - box_loss: 0.0023 - reg_l2_loss: 0.0778 - loss: 0.3811 - learning_rate: 0.0046 - gradient_norm: 2.3412 - val_det_loss: 0.3683 - val_cls_loss: 0.2004 - val_box_loss: 0.0034 - val_reg_l2_loss: 0.0778 - val_loss: 0.4461\n",
            "Epoch 43/80\n",
            "66/66 [==============================] - 55s 834ms/step - det_loss: 0.2983 - cls_loss: 0.1838 - box_loss: 0.0023 - reg_l2_loss: 0.0778 - loss: 0.3761 - learning_rate: 0.0044 - gradient_norm: 2.2511 - val_det_loss: 0.3307 - val_cls_loss: 0.1935 - val_box_loss: 0.0027 - val_reg_l2_loss: 0.0778 - val_loss: 0.4085\n",
            "Epoch 44/80\n",
            "66/66 [==============================] - 55s 832ms/step - det_loss: 0.3061 - cls_loss: 0.1873 - box_loss: 0.0024 - reg_l2_loss: 0.0778 - loss: 0.3839 - learning_rate: 0.0042 - gradient_norm: 2.3471 - val_det_loss: 0.3448 - val_cls_loss: 0.1956 - val_box_loss: 0.0030 - val_reg_l2_loss: 0.0778 - val_loss: 0.4226\n",
            "Epoch 45/80\n",
            "66/66 [==============================] - 60s 916ms/step - det_loss: 0.2903 - cls_loss: 0.1802 - box_loss: 0.0022 - reg_l2_loss: 0.0778 - loss: 0.3681 - learning_rate: 0.0040 - gradient_norm: 2.2982 - val_det_loss: 0.3368 - val_cls_loss: 0.1885 - val_box_loss: 0.0030 - val_reg_l2_loss: 0.0778 - val_loss: 0.4146\n",
            "Epoch 46/80\n",
            "66/66 [==============================] - 54s 820ms/step - det_loss: 0.2944 - cls_loss: 0.1823 - box_loss: 0.0022 - reg_l2_loss: 0.0778 - loss: 0.3722 - learning_rate: 0.0038 - gradient_norm: 2.3075 - val_det_loss: 0.3587 - val_cls_loss: 0.2219 - val_box_loss: 0.0027 - val_reg_l2_loss: 0.0778 - val_loss: 0.4365\n",
            "Epoch 47/80\n",
            "66/66 [==============================] - 54s 815ms/step - det_loss: 0.2856 - cls_loss: 0.1793 - box_loss: 0.0021 - reg_l2_loss: 0.0778 - loss: 0.3634 - learning_rate: 0.0036 - gradient_norm: 2.2859 - val_det_loss: 0.3461 - val_cls_loss: 0.2151 - val_box_loss: 0.0026 - val_reg_l2_loss: 0.0778 - val_loss: 0.4239\n",
            "Epoch 48/80\n",
            "66/66 [==============================] - 56s 846ms/step - det_loss: 0.2918 - cls_loss: 0.1815 - box_loss: 0.0022 - reg_l2_loss: 0.0778 - loss: 0.3696 - learning_rate: 0.0034 - gradient_norm: 2.2731 - val_det_loss: 0.4335 - val_cls_loss: 0.2517 - val_box_loss: 0.0036 - val_reg_l2_loss: 0.0778 - val_loss: 0.5113\n",
            "Epoch 49/80\n",
            "66/66 [==============================] - 56s 845ms/step - det_loss: 0.2767 - cls_loss: 0.1770 - box_loss: 0.0020 - reg_l2_loss: 0.0778 - loss: 0.3545 - learning_rate: 0.0032 - gradient_norm: 2.2923 - val_det_loss: 0.3342 - val_cls_loss: 0.1929 - val_box_loss: 0.0028 - val_reg_l2_loss: 0.0778 - val_loss: 0.4120\n",
            "Epoch 50/80\n",
            "66/66 [==============================] - 60s 910ms/step - det_loss: 0.2761 - cls_loss: 0.1759 - box_loss: 0.0020 - reg_l2_loss: 0.0778 - loss: 0.3538 - learning_rate: 0.0031 - gradient_norm: 2.3076 - val_det_loss: 0.3623 - val_cls_loss: 0.2081 - val_box_loss: 0.0031 - val_reg_l2_loss: 0.0778 - val_loss: 0.4401\n",
            "Epoch 51/80\n",
            "66/66 [==============================] - 54s 828ms/step - det_loss: 0.2918 - cls_loss: 0.1832 - box_loss: 0.0022 - reg_l2_loss: 0.0778 - loss: 0.3696 - learning_rate: 0.0029 - gradient_norm: 2.2757 - val_det_loss: 0.3526 - val_cls_loss: 0.2023 - val_box_loss: 0.0030 - val_reg_l2_loss: 0.0778 - val_loss: 0.4303\n",
            "Epoch 52/80\n",
            "66/66 [==============================] - 55s 838ms/step - det_loss: 0.2773 - cls_loss: 0.1750 - box_loss: 0.0020 - reg_l2_loss: 0.0778 - loss: 0.3551 - learning_rate: 0.0027 - gradient_norm: 2.2360 - val_det_loss: 0.3259 - val_cls_loss: 0.1980 - val_box_loss: 0.0026 - val_reg_l2_loss: 0.0778 - val_loss: 0.4037\n",
            "Epoch 53/80\n",
            "66/66 [==============================] - 55s 843ms/step - det_loss: 0.2826 - cls_loss: 0.1773 - box_loss: 0.0021 - reg_l2_loss: 0.0778 - loss: 0.3604 - learning_rate: 0.0025 - gradient_norm: 2.2304 - val_det_loss: 0.3672 - val_cls_loss: 0.2172 - val_box_loss: 0.0030 - val_reg_l2_loss: 0.0778 - val_loss: 0.4450\n",
            "Epoch 54/80\n",
            "66/66 [==============================] - 55s 838ms/step - det_loss: 0.2725 - cls_loss: 0.1724 - box_loss: 0.0020 - reg_l2_loss: 0.0778 - loss: 0.3503 - learning_rate: 0.0024 - gradient_norm: 2.2458 - val_det_loss: 0.3560 - val_cls_loss: 0.2132 - val_box_loss: 0.0029 - val_reg_l2_loss: 0.0778 - val_loss: 0.4338\n",
            "Epoch 55/80\n",
            "66/66 [==============================] - 60s 918ms/step - det_loss: 0.2770 - cls_loss: 0.1751 - box_loss: 0.0020 - reg_l2_loss: 0.0778 - loss: 0.3548 - learning_rate: 0.0022 - gradient_norm: 2.2478 - val_det_loss: 0.3332 - val_cls_loss: 0.2032 - val_box_loss: 0.0026 - val_reg_l2_loss: 0.0778 - val_loss: 0.4109\n",
            "Epoch 56/80\n",
            "66/66 [==============================] - 54s 827ms/step - det_loss: 0.2699 - cls_loss: 0.1692 - box_loss: 0.0020 - reg_l2_loss: 0.0778 - loss: 0.3476 - learning_rate: 0.0020 - gradient_norm: 2.2043 - val_det_loss: 0.3094 - val_cls_loss: 0.1922 - val_box_loss: 0.0023 - val_reg_l2_loss: 0.0778 - val_loss: 0.3872\n",
            "Epoch 57/80\n",
            "66/66 [==============================] - 54s 821ms/step - det_loss: 0.2656 - cls_loss: 0.1693 - box_loss: 0.0019 - reg_l2_loss: 0.0778 - loss: 0.3433 - learning_rate: 0.0019 - gradient_norm: 2.2065 - val_det_loss: 0.3488 - val_cls_loss: 0.2130 - val_box_loss: 0.0027 - val_reg_l2_loss: 0.0778 - val_loss: 0.4265\n",
            "Epoch 58/80\n",
            "66/66 [==============================] - 54s 824ms/step - det_loss: 0.2785 - cls_loss: 0.1754 - box_loss: 0.0021 - reg_l2_loss: 0.0778 - loss: 0.3563 - learning_rate: 0.0017 - gradient_norm: 2.3832 - val_det_loss: 0.3390 - val_cls_loss: 0.2100 - val_box_loss: 0.0026 - val_reg_l2_loss: 0.0778 - val_loss: 0.4168\n",
            "Epoch 59/80\n",
            "66/66 [==============================] - 56s 844ms/step - det_loss: 0.2752 - cls_loss: 0.1738 - box_loss: 0.0020 - reg_l2_loss: 0.0778 - loss: 0.3530 - learning_rate: 0.0016 - gradient_norm: 2.2545 - val_det_loss: 0.3626 - val_cls_loss: 0.2149 - val_box_loss: 0.0030 - val_reg_l2_loss: 0.0777 - val_loss: 0.4404\n",
            "Epoch 60/80\n",
            "66/66 [==============================] - 60s 909ms/step - det_loss: 0.2791 - cls_loss: 0.1746 - box_loss: 0.0021 - reg_l2_loss: 0.0777 - loss: 0.3569 - learning_rate: 0.0014 - gradient_norm: 2.4168 - val_det_loss: 0.3578 - val_cls_loss: 0.2118 - val_box_loss: 0.0029 - val_reg_l2_loss: 0.0777 - val_loss: 0.4355\n",
            "Epoch 61/80\n",
            "66/66 [==============================] - 54s 824ms/step - det_loss: 0.2697 - cls_loss: 0.1725 - box_loss: 0.0019 - reg_l2_loss: 0.0777 - loss: 0.3474 - learning_rate: 0.0013 - gradient_norm: 2.2369 - val_det_loss: 0.3557 - val_cls_loss: 0.2080 - val_box_loss: 0.0030 - val_reg_l2_loss: 0.0777 - val_loss: 0.4334\n",
            "Epoch 62/80\n",
            "66/66 [==============================] - 55s 833ms/step - det_loss: 0.2655 - cls_loss: 0.1695 - box_loss: 0.0019 - reg_l2_loss: 0.0777 - loss: 0.3432 - learning_rate: 0.0012 - gradient_norm: 2.2862 - val_det_loss: 0.3265 - val_cls_loss: 0.2032 - val_box_loss: 0.0025 - val_reg_l2_loss: 0.0777 - val_loss: 0.4042\n",
            "Epoch 63/80\n",
            "66/66 [==============================] - 54s 820ms/step - det_loss: 0.2683 - cls_loss: 0.1705 - box_loss: 0.0020 - reg_l2_loss: 0.0777 - loss: 0.3461 - learning_rate: 0.0010 - gradient_norm: 2.2379 - val_det_loss: 0.3278 - val_cls_loss: 0.2013 - val_box_loss: 0.0025 - val_reg_l2_loss: 0.0777 - val_loss: 0.4056\n",
            "Epoch 64/80\n",
            "66/66 [==============================] - 54s 818ms/step - det_loss: 0.2622 - cls_loss: 0.1663 - box_loss: 0.0019 - reg_l2_loss: 0.0777 - loss: 0.3400 - learning_rate: 9.2044e-04 - gradient_norm: 2.1977 - val_det_loss: 0.3410 - val_cls_loss: 0.2099 - val_box_loss: 0.0026 - val_reg_l2_loss: 0.0777 - val_loss: 0.4187\n",
            "Epoch 65/80\n",
            "66/66 [==============================] - 58s 889ms/step - det_loss: 0.2663 - cls_loss: 0.1675 - box_loss: 0.0020 - reg_l2_loss: 0.0777 - loss: 0.3440 - learning_rate: 8.0876e-04 - gradient_norm: 2.2648 - val_det_loss: 0.3666 - val_cls_loss: 0.2249 - val_box_loss: 0.0028 - val_reg_l2_loss: 0.0777 - val_loss: 0.4443\n",
            "Epoch 66/80\n",
            "66/66 [==============================] - 53s 805ms/step - det_loss: 0.2642 - cls_loss: 0.1676 - box_loss: 0.0019 - reg_l2_loss: 0.0777 - loss: 0.3419 - learning_rate: 7.0371e-04 - gradient_norm: 2.2560 - val_det_loss: 0.3388 - val_cls_loss: 0.2092 - val_box_loss: 0.0026 - val_reg_l2_loss: 0.0777 - val_loss: 0.4165\n",
            "Epoch 67/80\n",
            "66/66 [==============================] - 53s 806ms/step - det_loss: 0.2555 - cls_loss: 0.1634 - box_loss: 0.0018 - reg_l2_loss: 0.0777 - loss: 0.3332 - learning_rate: 6.0544e-04 - gradient_norm: 2.1827 - val_det_loss: 0.3292 - val_cls_loss: 0.2049 - val_box_loss: 0.0025 - val_reg_l2_loss: 0.0777 - val_loss: 0.4069\n",
            "Epoch 68/80\n",
            "66/66 [==============================] - 54s 824ms/step - det_loss: 0.2652 - cls_loss: 0.1688 - box_loss: 0.0019 - reg_l2_loss: 0.0777 - loss: 0.3430 - learning_rate: 5.1413e-04 - gradient_norm: 2.3238 - val_det_loss: 0.3249 - val_cls_loss: 0.2035 - val_box_loss: 0.0024 - val_reg_l2_loss: 0.0777 - val_loss: 0.4026\n",
            "Epoch 69/80\n",
            "66/66 [==============================] - 53s 807ms/step - det_loss: 0.2676 - cls_loss: 0.1696 - box_loss: 0.0020 - reg_l2_loss: 0.0777 - loss: 0.3453 - learning_rate: 4.2991e-04 - gradient_norm: 2.2801 - val_det_loss: 0.3323 - val_cls_loss: 0.2068 - val_box_loss: 0.0025 - val_reg_l2_loss: 0.0777 - val_loss: 0.4100\n",
            "Epoch 70/80\n",
            "66/66 [==============================] - 58s 881ms/step - det_loss: 0.2568 - cls_loss: 0.1632 - box_loss: 0.0019 - reg_l2_loss: 0.0777 - loss: 0.3345 - learning_rate: 3.5291e-04 - gradient_norm: 2.2156 - val_det_loss: 0.3339 - val_cls_loss: 0.2085 - val_box_loss: 0.0025 - val_reg_l2_loss: 0.0777 - val_loss: 0.4117\n",
            "Epoch 71/80\n",
            "66/66 [==============================] - 53s 800ms/step - det_loss: 0.2712 - cls_loss: 0.1721 - box_loss: 0.0020 - reg_l2_loss: 0.0777 - loss: 0.3489 - learning_rate: 2.8327e-04 - gradient_norm: 2.3657 - val_det_loss: 0.3372 - val_cls_loss: 0.2089 - val_box_loss: 0.0026 - val_reg_l2_loss: 0.0777 - val_loss: 0.4150\n",
            "Epoch 72/80\n",
            "66/66 [==============================] - 54s 814ms/step - det_loss: 0.2635 - cls_loss: 0.1665 - box_loss: 0.0019 - reg_l2_loss: 0.0777 - loss: 0.3412 - learning_rate: 2.2108e-04 - gradient_norm: 2.3702 - val_det_loss: 0.3348 - val_cls_loss: 0.2066 - val_box_loss: 0.0026 - val_reg_l2_loss: 0.0777 - val_loss: 0.4126\n",
            "Epoch 73/80\n",
            "66/66 [==============================] - 54s 819ms/step - det_loss: 0.2606 - cls_loss: 0.1680 - box_loss: 0.0019 - reg_l2_loss: 0.0777 - loss: 0.3383 - learning_rate: 1.6645e-04 - gradient_norm: 2.2672 - val_det_loss: 0.3303 - val_cls_loss: 0.2034 - val_box_loss: 0.0025 - val_reg_l2_loss: 0.0777 - val_loss: 0.4080\n",
            "Epoch 74/80\n",
            "45/66 [===================>..........] - ETA: 13s - det_loss: 0.2600 - cls_loss: 0.1639 - box_loss: 0.0019 - reg_l2_loss: 0.0777 - loss: 0.3377 - learning_rate: 1.2657e-04 - gradient_norm: 2.2511"
          ]
        }
      ]
    },
    {
      "cell_type": "code",
      "source": [
        "model.evaluate(validation_data)"
      ],
      "metadata": {
        "colab": {
          "base_uri": "https://localhost:8080/"
        },
        "id": "BiveyGojiEWa",
        "outputId": "a0a6dddf-3232-4e81-bbdb-a7f9f5026ab4"
      },
      "execution_count": null,
      "outputs": [
        {
          "output_type": "stream",
          "name": "stdout",
          "text": [
            "\r1/1 [==============================] - 20s 20s/step\n",
            "\n"
          ]
        },
        {
          "output_type": "execute_result",
          "data": {
            "text/plain": [
              "{'AP': 0.6389539,\n",
              " 'AP50': 0.9840471,\n",
              " 'AP75': 0.79620254,\n",
              " 'APs': -1.0,\n",
              " 'APm': -1.0,\n",
              " 'APl': 0.6393246,\n",
              " 'ARmax1': 0.62674665,\n",
              " 'ARmax10': 0.72154397,\n",
              " 'ARmax100': 0.7270995,\n",
              " 'ARs': -1.0,\n",
              " 'ARm': -1.0,\n",
              " 'ARl': 0.7270995,\n",
              " 'AP_/blackmolly': 0.59398836,\n",
              " 'AP_/whitemolly': 0.635989,\n",
              " 'AP_/chocolatemolly': 0.67831874,\n",
              " 'AP_/platy': 0.7025844,\n",
              " 'AP_/guppy': 0.5838893}"
            ]
          },
          "metadata": {},
          "execution_count": 20
        }
      ]
    },
    {
      "cell_type": "code",
      "source": [
        "model.export(export_dir='.',export_format=[ExportFormat.LABEL,ExportFormat.TFLITE])"
      ],
      "metadata": {
        "id": "yV6sYSpUiEFO"
      },
      "execution_count": null,
      "outputs": []
    },
    {
      "cell_type": "code",
      "source": [
        "model.evaluate_tflite('model.tflite', validation_data)"
      ],
      "metadata": {
        "colab": {
          "base_uri": "https://localhost:8080/"
        },
        "id": "5qHZpiAbm7t2",
        "outputId": "7ccdf9f5-9aea-4cea-dc72-ef9e2e6cf95a"
      },
      "execution_count": null,
      "outputs": [
        {
          "output_type": "stream",
          "name": "stdout",
          "text": [
            "60/60 [==============================] - 571s 10s/step\n",
            "\n"
          ]
        },
        {
          "output_type": "execute_result",
          "data": {
            "text/plain": [
              "{'AP': 0.62202305,\n",
              " 'AP50': 0.98624414,\n",
              " 'AP75': 0.7527022,\n",
              " 'APs': -1.0,\n",
              " 'APm': -1.0,\n",
              " 'APl': 0.6221233,\n",
              " 'ARmax1': 0.62293184,\n",
              " 'ARmax10': 0.6847837,\n",
              " 'ARmax100': 0.6862652,\n",
              " 'ARs': -1.0,\n",
              " 'ARm': -1.0,\n",
              " 'ARl': 0.6862652,\n",
              " 'AP_/blackmolly': 0.5772281,\n",
              " 'AP_/whitemolly': 0.5915532,\n",
              " 'AP_/chocolatemolly': 0.67600876,\n",
              " 'AP_/platy': 0.6830249,\n",
              " 'AP_/guppy': 0.5823003}"
            ]
          },
          "metadata": {},
          "execution_count": 22
        }
      ]
    },
    {
      "cell_type": "code",
      "source": [],
      "metadata": {
        "id": "xH73BF6etcD6"
      },
      "execution_count": null,
      "outputs": []
    }
  ]
}